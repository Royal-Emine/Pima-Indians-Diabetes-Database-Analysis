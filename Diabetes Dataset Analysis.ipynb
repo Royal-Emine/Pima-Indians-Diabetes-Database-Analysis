{
  "nbformat": 4,
  "nbformat_minor": 0,
  "metadata": {
    "colab": {
      "provenance": []
    },
    "kernelspec": {
      "name": "python3",
      "display_name": "Python 3"
    }
  },
  "cells": [
    {
      "cell_type": "markdown",
      "metadata": {
        "id": "ztd7GdfUXcaW"
      },
      "source": [
        "Question 1 : Implement the Bagging based Ensemble Model using CART (Classification and Regression Trees) as base learners. No. of base learners = 100. Use cross validation as the model estimation method. "
      ]
    },
    {
      "cell_type": "code",
      "metadata": {
        "id": "vnR0ToQmXb8S",
        "outputId": "7199bb32-3c39-4684-9419-b66106427d79",
        "colab": {
          "base_uri": "https://localhost:8080/"
        }
      },
      "source": [
        "import pandas \n",
        "from sklearn import model_selection\n",
        "from sklearn.ensemble import BaggingClassifier\n",
        "from sklearn.tree import DecisionTreeClassifier\n",
        "url = \"https://raw.githubusercontent.com/jbrownlee/Datasets/master/pima-indians-diabetes.data.csv\"\n",
        "names = ['preg', 'plas','pres', 'skin', 'test', 'mass', 'pedi', 'age', 'class']\n",
        "df = pandas.read_csv(url, names=names)\n",
        "df.shape"
      ],
      "execution_count": 1,
      "outputs": [
        {
          "output_type": "execute_result",
          "data": {
            "text/plain": [
              "(768, 9)"
            ]
          },
          "metadata": {},
          "execution_count": 1
        }
      ]
    },
    {
      "cell_type": "code",
      "metadata": {
        "id": "hZ5JNyyxhcCY",
        "outputId": "dbee1142-4360-4ad6-d860-7ef4f3692ef4",
        "colab": {
          "base_uri": "https://localhost:8080/"
        }
      },
      "source": [
        "array = df.values\n",
        "X = array[:, 0:8]\n",
        "Y = array[:, 8]\n",
        "Kfold = model_selection.KFold(n_splits=10, random_state=None)\n",
        "cart = DecisionTreeClassifier()\n",
        "num_trees = 100\n",
        "model = BaggingClassifier(base_estimator=cart, n_estimators=num_trees,random_state=7)\n",
        "results = model_selection.cross_val_score(model,X,Y, cv = Kfold)\n",
        "average_accuracy = sum(results)/len(results)\n",
        "print(\"Average Accuracy is \", average_accuracy)\n",
        "\n"
      ],
      "execution_count": 3,
      "outputs": [
        {
          "output_type": "stream",
          "name": "stdout",
          "text": [
            "Average Accuracy is  0.7720437457279563\n"
          ]
        }
      ]
    },
    {
      "cell_type": "markdown",
      "metadata": {
        "id": "BQkpmli4qStQ"
      },
      "source": [
        "Question 2 : Implement the AdaBoost Ensemble model for classification using 10 base learners and cross validation."
      ]
    },
    {
      "cell_type": "code",
      "metadata": {
        "id": "sy3MrrSgqgN9",
        "outputId": "4883d045-1b88-4405-ab59-6c2f83d87613",
        "colab": {
          "base_uri": "https://localhost:8080/"
        }
      },
      "source": [
        "import pandas \n",
        "from sklearn import model_selection\n",
        "from sklearn.ensemble import AdaBoostClassifier\n",
        "from sklearn.tree import DecisionTreeClassifier\n",
        "url = \"https://raw.githubusercontent.com/jbrownlee/Datasets/master/pima-indians-diabetes.data.csv\"\n",
        "names = ['preg', 'plas','pres', 'skin', 'test', 'mass', 'pedi', 'age', 'class']\n",
        "df = pandas.read_csv(url, names=names)\n",
        "df.shape"
      ],
      "execution_count": 4,
      "outputs": [
        {
          "output_type": "execute_result",
          "data": {
            "text/plain": [
              "(768, 9)"
            ]
          },
          "metadata": {},
          "execution_count": 4
        }
      ]
    },
    {
      "cell_type": "code",
      "metadata": {
        "id": "54gO7nlkq5xj",
        "outputId": "c53e0418-b94f-4c01-e202-67c6ce69381e",
        "colab": {
          "base_uri": "https://localhost:8080/"
        }
      },
      "source": [
        "array = df.values\n",
        "X = array[:, 0:8]\n",
        "Y = array[:, 8]\n",
        "Kfold = model_selection.KFold(n_splits=10, random_state=None)\n",
        "num_trees = 10\n",
        "model = AdaBoostClassifier(n_estimators=num_trees,random_state=7)\n",
        "results = model_selection.cross_val_score(model,X,Y, cv = Kfold)\n",
        "average_accuracy = sum(results)/len(results)\n",
        "print(\"Average Accuracy is \", average_accuracy)"
      ],
      "execution_count": 6,
      "outputs": [
        {
          "output_type": "stream",
          "name": "stdout",
          "text": [
            "Average Accuracy is  0.7525974025974026\n"
          ]
        }
      ]
    },
    {
      "cell_type": "markdown",
      "metadata": {
        "id": "H5lKpxuOgYgV"
      },
      "source": [
        "Question 3: (Same as Question 1) Implement the Bagging based Ensemble Model using k-Nearest Neighbor Classifier as base learners. No. of base learners = 100. Use cross validation as the model estimation method."
      ]
    },
    {
      "cell_type": "code",
      "metadata": {
        "id": "C4VxQSI_frIm",
        "outputId": "3bd9a32c-b385-4922-cea9-9a4e59bb6422",
        "colab": {
          "base_uri": "https://localhost:8080/"
        }
      },
      "source": [
        "import pandas \n",
        "from sklearn import model_selection\n",
        "from sklearn.ensemble import BaggingClassifier\n",
        "from sklearn.neighbors import KNeighborsClassifier\n",
        "url = \"https://raw.githubusercontent.com/jbrownlee/Datasets/master/pima-indians-diabetes.data.csv\"\n",
        "names = ['preg', 'plas','pres', 'skin', 'test', 'mass', 'pedi', 'age', 'class']\n",
        "df = pandas.read_csv(url, names=names)\n",
        "df.shape"
      ],
      "execution_count": 7,
      "outputs": [
        {
          "output_type": "execute_result",
          "data": {
            "text/plain": [
              "(768, 9)"
            ]
          },
          "metadata": {},
          "execution_count": 7
        }
      ]
    },
    {
      "cell_type": "code",
      "metadata": {
        "id": "uUc5VVMsftkv",
        "outputId": "8577945a-e2e9-487a-e94e-1fa687d2f0e4",
        "colab": {
          "base_uri": "https://localhost:8080/"
        }
      },
      "source": [
        "array = df.values\n",
        "X = array[:, 0:8]\n",
        "Y = array[:, 8]\n",
        "Kfold = model_selection.KFold(n_splits=10, random_state=None)\n",
        "knn = KNeighborsClassifier()\n",
        "num_learners = 100\n",
        "model = BaggingClassifier(base_estimator=knn, n_estimators=num_learners,random_state=7)\n",
        "results = model_selection.cross_val_score(model,X,Y, cv = Kfold)\n",
        "average_accuracy = sum(results)/len(results)\n",
        "print(\"Average Accuracy is \", average_accuracy)"
      ],
      "execution_count": 9,
      "outputs": [
        {
          "output_type": "stream",
          "name": "stdout",
          "text": [
            "Average Accuracy is  0.7356459330143541\n"
          ]
        }
      ]
    }
  ]
}